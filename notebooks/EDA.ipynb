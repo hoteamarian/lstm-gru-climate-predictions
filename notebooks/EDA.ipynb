{
 "cells": [
  {
   "metadata": {
    "ExecuteTime": {
     "end_time": "2025-08-24T12:12:43.460301Z",
     "start_time": "2025-08-24T12:12:43.457654Z"
    }
   },
   "cell_type": "code",
   "source": "from preprocessing_code import *",
   "id": "b64b1f377423ada4",
   "outputs": [],
   "execution_count": 11
  },
  {
   "metadata": {
    "ExecuteTime": {
     "end_time": "2025-08-24T12:12:44.096594Z",
     "start_time": "2025-08-24T12:12:44.087879Z"
    }
   },
   "cell_type": "code",
   "source": "ds = load_dataset(file_path=\"../data/processed/preprocessed_data.nc\")",
   "id": "12924204193ec141",
   "outputs": [],
   "execution_count": 12
  },
  {
   "metadata": {
    "ExecuteTime": {
     "end_time": "2025-08-24T12:12:44.578613Z",
     "start_time": "2025-08-24T12:12:44.572384Z"
    }
   },
   "cell_type": "code",
   "source": "print(ds)",
   "id": "c794a59795501948",
   "outputs": [
    {
     "name": "stdout",
     "output_type": "stream",
     "text": [
      "<xarray.Dataset> Size: 55MB\n",
      "Dimensions:     (valid_time: 528, points: 4320)\n",
      "Coordinates:\n",
      "    number      int64 8B ...\n",
      "  * valid_time  (valid_time) datetime64[ns] 4kB 1981-01-01 ... 2024-12-01\n",
      "    expver      (valid_time) <U4 8kB ...\n",
      "    latitude    (points) float64 35kB ...\n",
      "    longitude   (points) float64 35kB ...\n",
      "Dimensions without coordinates: points\n",
      "Data variables:\n",
      "    t2m         (valid_time, points) float32 9MB ...\n",
      "    swvl1       (valid_time, points) float32 9MB ...\n",
      "    ssrd        (valid_time, points) float64 18MB ...\n",
      "    pev         (valid_time, points) float32 9MB ...\n",
      "    tp          (valid_time, points) float32 9MB ...\n"
     ]
    }
   ],
   "execution_count": 13
  },
  {
   "metadata": {
    "ExecuteTime": {
     "end_time": "2025-08-24T12:12:45.271748Z",
     "start_time": "2025-08-24T12:12:45.264747Z"
    }
   },
   "cell_type": "code",
   "source": "ds[\"t2m\"]",
   "id": "f1883c41ab9647ea",
   "outputs": [
    {
     "data": {
      "text/plain": [
       "<xarray.DataArray 't2m' (valid_time: 528, points: 4320)> Size: 9MB\n",
       "[2280960 values with dtype=float32]\n",
       "Coordinates:\n",
       "    number      int64 8B ...\n",
       "  * valid_time  (valid_time) datetime64[ns] 4kB 1981-01-01 ... 2024-12-01\n",
       "    expver      (valid_time) <U4 8kB ...\n",
       "    latitude    (points) float64 35kB ...\n",
       "    longitude   (points) float64 35kB ...\n",
       "Dimensions without coordinates: points\n",
       "Attributes:\n",
       "    units:    °C"
      ],
      "text/html": [
       "<div><svg style=\"position: absolute; width: 0; height: 0; overflow: hidden\">\n",
       "<defs>\n",
       "<symbol id=\"icon-database\" viewBox=\"0 0 32 32\">\n",
       "<path d=\"M16 0c-8.837 0-16 2.239-16 5v4c0 2.761 7.163 5 16 5s16-2.239 16-5v-4c0-2.761-7.163-5-16-5z\"></path>\n",
       "<path d=\"M16 17c-8.837 0-16-2.239-16-5v6c0 2.761 7.163 5 16 5s16-2.239 16-5v-6c0 2.761-7.163 5-16 5z\"></path>\n",
       "<path d=\"M16 26c-8.837 0-16-2.239-16-5v6c0 2.761 7.163 5 16 5s16-2.239 16-5v-6c0 2.761-7.163 5-16 5z\"></path>\n",
       "</symbol>\n",
       "<symbol id=\"icon-file-text2\" viewBox=\"0 0 32 32\">\n",
       "<path d=\"M28.681 7.159c-0.694-0.947-1.662-2.053-2.724-3.116s-2.169-2.030-3.116-2.724c-1.612-1.182-2.393-1.319-2.841-1.319h-15.5c-1.378 0-2.5 1.121-2.5 2.5v27c0 1.378 1.122 2.5 2.5 2.5h23c1.378 0 2.5-1.122 2.5-2.5v-19.5c0-0.448-0.137-1.23-1.319-2.841zM24.543 5.457c0.959 0.959 1.712 1.825 2.268 2.543h-4.811v-4.811c0.718 0.556 1.584 1.309 2.543 2.268zM28 29.5c0 0.271-0.229 0.5-0.5 0.5h-23c-0.271 0-0.5-0.229-0.5-0.5v-27c0-0.271 0.229-0.5 0.5-0.5 0 0 15.499-0 15.5 0v7c0 0.552 0.448 1 1 1h7v19.5z\"></path>\n",
       "<path d=\"M23 26h-14c-0.552 0-1-0.448-1-1s0.448-1 1-1h14c0.552 0 1 0.448 1 1s-0.448 1-1 1z\"></path>\n",
       "<path d=\"M23 22h-14c-0.552 0-1-0.448-1-1s0.448-1 1-1h14c0.552 0 1 0.448 1 1s-0.448 1-1 1z\"></path>\n",
       "<path d=\"M23 18h-14c-0.552 0-1-0.448-1-1s0.448-1 1-1h14c0.552 0 1 0.448 1 1s-0.448 1-1 1z\"></path>\n",
       "</symbol>\n",
       "</defs>\n",
       "</svg>\n",
       "<style>/* CSS stylesheet for displaying xarray objects in jupyterlab.\n",
       " *\n",
       " */\n",
       "\n",
       ":root {\n",
       "  --xr-font-color0: var(--jp-content-font-color0, rgba(0, 0, 0, 1));\n",
       "  --xr-font-color2: var(--jp-content-font-color2, rgba(0, 0, 0, 0.54));\n",
       "  --xr-font-color3: var(--jp-content-font-color3, rgba(0, 0, 0, 0.38));\n",
       "  --xr-border-color: var(--jp-border-color2, #e0e0e0);\n",
       "  --xr-disabled-color: var(--jp-layout-color3, #bdbdbd);\n",
       "  --xr-background-color: var(--jp-layout-color0, white);\n",
       "  --xr-background-color-row-even: var(--jp-layout-color1, white);\n",
       "  --xr-background-color-row-odd: var(--jp-layout-color2, #eeeeee);\n",
       "}\n",
       "\n",
       "html[theme=\"dark\"],\n",
       "html[data-theme=\"dark\"],\n",
       "body[data-theme=\"dark\"],\n",
       "body.vscode-dark {\n",
       "  --xr-font-color0: rgba(255, 255, 255, 1);\n",
       "  --xr-font-color2: rgba(255, 255, 255, 0.54);\n",
       "  --xr-font-color3: rgba(255, 255, 255, 0.38);\n",
       "  --xr-border-color: #1f1f1f;\n",
       "  --xr-disabled-color: #515151;\n",
       "  --xr-background-color: #111111;\n",
       "  --xr-background-color-row-even: #111111;\n",
       "  --xr-background-color-row-odd: #313131;\n",
       "}\n",
       "\n",
       ".xr-wrap {\n",
       "  display: block !important;\n",
       "  min-width: 300px;\n",
       "  max-width: 700px;\n",
       "}\n",
       "\n",
       ".xr-text-repr-fallback {\n",
       "  /* fallback to plain text repr when CSS is not injected (untrusted notebook) */\n",
       "  display: none;\n",
       "}\n",
       "\n",
       ".xr-header {\n",
       "  padding-top: 6px;\n",
       "  padding-bottom: 6px;\n",
       "  margin-bottom: 4px;\n",
       "  border-bottom: solid 1px var(--xr-border-color);\n",
       "}\n",
       "\n",
       ".xr-header > div,\n",
       ".xr-header > ul {\n",
       "  display: inline;\n",
       "  margin-top: 0;\n",
       "  margin-bottom: 0;\n",
       "}\n",
       "\n",
       ".xr-obj-type,\n",
       ".xr-array-name {\n",
       "  margin-left: 2px;\n",
       "  margin-right: 10px;\n",
       "}\n",
       "\n",
       ".xr-obj-type {\n",
       "  color: var(--xr-font-color2);\n",
       "}\n",
       "\n",
       ".xr-sections {\n",
       "  padding-left: 0 !important;\n",
       "  display: grid;\n",
       "  grid-template-columns: 150px auto auto 1fr 0 20px 0 20px;\n",
       "}\n",
       "\n",
       ".xr-section-item {\n",
       "  display: contents;\n",
       "}\n",
       "\n",
       ".xr-section-item input {\n",
       "  display: inline-block;\n",
       "  opacity: 0;\n",
       "  height: 0;\n",
       "}\n",
       "\n",
       ".xr-section-item input + label {\n",
       "  color: var(--xr-disabled-color);\n",
       "}\n",
       "\n",
       ".xr-section-item input:enabled + label {\n",
       "  cursor: pointer;\n",
       "  color: var(--xr-font-color2);\n",
       "}\n",
       "\n",
       ".xr-section-item input:focus + label {\n",
       "  border: 2px solid var(--xr-font-color0);\n",
       "}\n",
       "\n",
       ".xr-section-item input:enabled + label:hover {\n",
       "  color: var(--xr-font-color0);\n",
       "}\n",
       "\n",
       ".xr-section-summary {\n",
       "  grid-column: 1;\n",
       "  color: var(--xr-font-color2);\n",
       "  font-weight: 500;\n",
       "}\n",
       "\n",
       ".xr-section-summary > span {\n",
       "  display: inline-block;\n",
       "  padding-left: 0.5em;\n",
       "}\n",
       "\n",
       ".xr-section-summary-in:disabled + label {\n",
       "  color: var(--xr-font-color2);\n",
       "}\n",
       "\n",
       ".xr-section-summary-in + label:before {\n",
       "  display: inline-block;\n",
       "  content: \"►\";\n",
       "  font-size: 11px;\n",
       "  width: 15px;\n",
       "  text-align: center;\n",
       "}\n",
       "\n",
       ".xr-section-summary-in:disabled + label:before {\n",
       "  color: var(--xr-disabled-color);\n",
       "}\n",
       "\n",
       ".xr-section-summary-in:checked + label:before {\n",
       "  content: \"▼\";\n",
       "}\n",
       "\n",
       ".xr-section-summary-in:checked + label > span {\n",
       "  display: none;\n",
       "}\n",
       "\n",
       ".xr-section-summary,\n",
       ".xr-section-inline-details {\n",
       "  padding-top: 4px;\n",
       "  padding-bottom: 4px;\n",
       "}\n",
       "\n",
       ".xr-section-inline-details {\n",
       "  grid-column: 2 / -1;\n",
       "}\n",
       "\n",
       ".xr-section-details {\n",
       "  display: none;\n",
       "  grid-column: 1 / -1;\n",
       "  margin-bottom: 5px;\n",
       "}\n",
       "\n",
       ".xr-section-summary-in:checked ~ .xr-section-details {\n",
       "  display: contents;\n",
       "}\n",
       "\n",
       ".xr-array-wrap {\n",
       "  grid-column: 1 / -1;\n",
       "  display: grid;\n",
       "  grid-template-columns: 20px auto;\n",
       "}\n",
       "\n",
       ".xr-array-wrap > label {\n",
       "  grid-column: 1;\n",
       "  vertical-align: top;\n",
       "}\n",
       "\n",
       ".xr-preview {\n",
       "  color: var(--xr-font-color3);\n",
       "}\n",
       "\n",
       ".xr-array-preview,\n",
       ".xr-array-data {\n",
       "  padding: 0 5px !important;\n",
       "  grid-column: 2;\n",
       "}\n",
       "\n",
       ".xr-array-data,\n",
       ".xr-array-in:checked ~ .xr-array-preview {\n",
       "  display: none;\n",
       "}\n",
       "\n",
       ".xr-array-in:checked ~ .xr-array-data,\n",
       ".xr-array-preview {\n",
       "  display: inline-block;\n",
       "}\n",
       "\n",
       ".xr-dim-list {\n",
       "  display: inline-block !important;\n",
       "  list-style: none;\n",
       "  padding: 0 !important;\n",
       "  margin: 0;\n",
       "}\n",
       "\n",
       ".xr-dim-list li {\n",
       "  display: inline-block;\n",
       "  padding: 0;\n",
       "  margin: 0;\n",
       "}\n",
       "\n",
       ".xr-dim-list:before {\n",
       "  content: \"(\";\n",
       "}\n",
       "\n",
       ".xr-dim-list:after {\n",
       "  content: \")\";\n",
       "}\n",
       "\n",
       ".xr-dim-list li:not(:last-child):after {\n",
       "  content: \",\";\n",
       "  padding-right: 5px;\n",
       "}\n",
       "\n",
       ".xr-has-index {\n",
       "  font-weight: bold;\n",
       "}\n",
       "\n",
       ".xr-var-list,\n",
       ".xr-var-item {\n",
       "  display: contents;\n",
       "}\n",
       "\n",
       ".xr-var-item > div,\n",
       ".xr-var-item label,\n",
       ".xr-var-item > .xr-var-name span {\n",
       "  background-color: var(--xr-background-color-row-even);\n",
       "  margin-bottom: 0;\n",
       "}\n",
       "\n",
       ".xr-var-item > .xr-var-name:hover span {\n",
       "  padding-right: 5px;\n",
       "}\n",
       "\n",
       ".xr-var-list > li:nth-child(odd) > div,\n",
       ".xr-var-list > li:nth-child(odd) > label,\n",
       ".xr-var-list > li:nth-child(odd) > .xr-var-name span {\n",
       "  background-color: var(--xr-background-color-row-odd);\n",
       "}\n",
       "\n",
       ".xr-var-name {\n",
       "  grid-column: 1;\n",
       "}\n",
       "\n",
       ".xr-var-dims {\n",
       "  grid-column: 2;\n",
       "}\n",
       "\n",
       ".xr-var-dtype {\n",
       "  grid-column: 3;\n",
       "  text-align: right;\n",
       "  color: var(--xr-font-color2);\n",
       "}\n",
       "\n",
       ".xr-var-preview {\n",
       "  grid-column: 4;\n",
       "}\n",
       "\n",
       ".xr-index-preview {\n",
       "  grid-column: 2 / 5;\n",
       "  color: var(--xr-font-color2);\n",
       "}\n",
       "\n",
       ".xr-var-name,\n",
       ".xr-var-dims,\n",
       ".xr-var-dtype,\n",
       ".xr-preview,\n",
       ".xr-attrs dt {\n",
       "  white-space: nowrap;\n",
       "  overflow: hidden;\n",
       "  text-overflow: ellipsis;\n",
       "  padding-right: 10px;\n",
       "}\n",
       "\n",
       ".xr-var-name:hover,\n",
       ".xr-var-dims:hover,\n",
       ".xr-var-dtype:hover,\n",
       ".xr-attrs dt:hover {\n",
       "  overflow: visible;\n",
       "  width: auto;\n",
       "  z-index: 1;\n",
       "}\n",
       "\n",
       ".xr-var-attrs,\n",
       ".xr-var-data,\n",
       ".xr-index-data {\n",
       "  display: none;\n",
       "  background-color: var(--xr-background-color) !important;\n",
       "  padding-bottom: 5px !important;\n",
       "}\n",
       "\n",
       ".xr-var-attrs-in:checked ~ .xr-var-attrs,\n",
       ".xr-var-data-in:checked ~ .xr-var-data,\n",
       ".xr-index-data-in:checked ~ .xr-index-data {\n",
       "  display: block;\n",
       "}\n",
       "\n",
       ".xr-var-data > table {\n",
       "  float: right;\n",
       "}\n",
       "\n",
       ".xr-var-name span,\n",
       ".xr-var-data,\n",
       ".xr-index-name div,\n",
       ".xr-index-data,\n",
       ".xr-attrs {\n",
       "  padding-left: 25px !important;\n",
       "}\n",
       "\n",
       ".xr-attrs,\n",
       ".xr-var-attrs,\n",
       ".xr-var-data,\n",
       ".xr-index-data {\n",
       "  grid-column: 1 / -1;\n",
       "}\n",
       "\n",
       "dl.xr-attrs {\n",
       "  padding: 0;\n",
       "  margin: 0;\n",
       "  display: grid;\n",
       "  grid-template-columns: 125px auto;\n",
       "}\n",
       "\n",
       ".xr-attrs dt,\n",
       ".xr-attrs dd {\n",
       "  padding: 0;\n",
       "  margin: 0;\n",
       "  float: left;\n",
       "  padding-right: 10px;\n",
       "  width: auto;\n",
       "}\n",
       "\n",
       ".xr-attrs dt {\n",
       "  font-weight: normal;\n",
       "  grid-column: 1;\n",
       "}\n",
       "\n",
       ".xr-attrs dt:hover span {\n",
       "  display: inline-block;\n",
       "  background: var(--xr-background-color);\n",
       "  padding-right: 10px;\n",
       "}\n",
       "\n",
       ".xr-attrs dd {\n",
       "  grid-column: 2;\n",
       "  white-space: pre-wrap;\n",
       "  word-break: break-all;\n",
       "}\n",
       "\n",
       ".xr-icon-database,\n",
       ".xr-icon-file-text2,\n",
       ".xr-no-icon {\n",
       "  display: inline-block;\n",
       "  vertical-align: middle;\n",
       "  width: 1em;\n",
       "  height: 1.5em !important;\n",
       "  stroke-width: 0;\n",
       "  stroke: currentColor;\n",
       "  fill: currentColor;\n",
       "}\n",
       "</style><pre class='xr-text-repr-fallback'>&lt;xarray.DataArray &#x27;t2m&#x27; (valid_time: 528, points: 4320)&gt; Size: 9MB\n",
       "[2280960 values with dtype=float32]\n",
       "Coordinates:\n",
       "    number      int64 8B ...\n",
       "  * valid_time  (valid_time) datetime64[ns] 4kB 1981-01-01 ... 2024-12-01\n",
       "    expver      (valid_time) &lt;U4 8kB ...\n",
       "    latitude    (points) float64 35kB ...\n",
       "    longitude   (points) float64 35kB ...\n",
       "Dimensions without coordinates: points\n",
       "Attributes:\n",
       "    units:    °C</pre><div class='xr-wrap' style='display:none'><div class='xr-header'><div class='xr-obj-type'>xarray.DataArray</div><div class='xr-array-name'>'t2m'</div><ul class='xr-dim-list'><li><span class='xr-has-index'>valid_time</span>: 528</li><li><span>points</span>: 4320</li></ul></div><ul class='xr-sections'><li class='xr-section-item'><div class='xr-array-wrap'><input id='section-88b72ee4-702d-4471-a33d-ce5095bf8160' class='xr-array-in' type='checkbox' checked><label for='section-88b72ee4-702d-4471-a33d-ce5095bf8160' title='Show/hide data repr'><svg class='icon xr-icon-database'><use xlink:href='#icon-database'></use></svg></label><div class='xr-array-preview xr-preview'><span>...</span></div><div class='xr-array-data'><pre>[2280960 values with dtype=float32]</pre></div></div></li><li class='xr-section-item'><input id='section-5b6df3c9-d483-4d2f-9c2e-9c8158a839c6' class='xr-section-summary-in' type='checkbox'  checked><label for='section-5b6df3c9-d483-4d2f-9c2e-9c8158a839c6' class='xr-section-summary' >Coordinates: <span>(5)</span></label><div class='xr-section-inline-details'></div><div class='xr-section-details'><ul class='xr-var-list'><li class='xr-var-item'><div class='xr-var-name'><span>number</span></div><div class='xr-var-dims'>()</div><div class='xr-var-dtype'>int64</div><div class='xr-var-preview xr-preview'>...</div><input id='attrs-975acb83-073b-4da6-85f7-c7395c8ae020' class='xr-var-attrs-in' type='checkbox' ><label for='attrs-975acb83-073b-4da6-85f7-c7395c8ae020' title='Show/Hide attributes'><svg class='icon xr-icon-file-text2'><use xlink:href='#icon-file-text2'></use></svg></label><input id='data-893fa246-a382-412f-914f-8dce16499ba9' class='xr-var-data-in' type='checkbox'><label for='data-893fa246-a382-412f-914f-8dce16499ba9' title='Show/Hide data repr'><svg class='icon xr-icon-database'><use xlink:href='#icon-database'></use></svg></label><div class='xr-var-attrs'><dl class='xr-attrs'><dt><span>long_name :</span></dt><dd>ensemble member numerical id</dd><dt><span>units :</span></dt><dd>1</dd><dt><span>standard_name :</span></dt><dd>realization</dd></dl></div><div class='xr-var-data'><pre>[1 values with dtype=int64]</pre></div></li><li class='xr-var-item'><div class='xr-var-name'><span class='xr-has-index'>valid_time</span></div><div class='xr-var-dims'>(valid_time)</div><div class='xr-var-dtype'>datetime64[ns]</div><div class='xr-var-preview xr-preview'>1981-01-01 ... 2024-12-01</div><input id='attrs-b7ee1ccd-f2e9-48ef-b8ab-8ec6ca37a266' class='xr-var-attrs-in' type='checkbox' ><label for='attrs-b7ee1ccd-f2e9-48ef-b8ab-8ec6ca37a266' title='Show/Hide attributes'><svg class='icon xr-icon-file-text2'><use xlink:href='#icon-file-text2'></use></svg></label><input id='data-e187d802-b8ee-4b91-9275-351062364526' class='xr-var-data-in' type='checkbox'><label for='data-e187d802-b8ee-4b91-9275-351062364526' title='Show/Hide data repr'><svg class='icon xr-icon-database'><use xlink:href='#icon-database'></use></svg></label><div class='xr-var-attrs'><dl class='xr-attrs'><dt><span>long_name :</span></dt><dd>initial time of forecast</dd><dt><span>standard_name :</span></dt><dd>forecast_reference_time</dd></dl></div><div class='xr-var-data'><pre>array([&#x27;1981-01-01T00:00:00.000000000&#x27;, &#x27;1981-02-01T00:00:00.000000000&#x27;,\n",
       "       &#x27;1981-03-01T00:00:00.000000000&#x27;, ..., &#x27;2024-10-01T00:00:00.000000000&#x27;,\n",
       "       &#x27;2024-11-01T00:00:00.000000000&#x27;, &#x27;2024-12-01T00:00:00.000000000&#x27;],\n",
       "      dtype=&#x27;datetime64[ns]&#x27;)</pre></div></li><li class='xr-var-item'><div class='xr-var-name'><span>expver</span></div><div class='xr-var-dims'>(valid_time)</div><div class='xr-var-dtype'>&lt;U4</div><div class='xr-var-preview xr-preview'>...</div><input id='attrs-2c06506f-8198-4016-b888-e32d30b638a7' class='xr-var-attrs-in' type='checkbox' disabled><label for='attrs-2c06506f-8198-4016-b888-e32d30b638a7' title='Show/Hide attributes'><svg class='icon xr-icon-file-text2'><use xlink:href='#icon-file-text2'></use></svg></label><input id='data-7e4dc177-cc13-4644-83bf-34e59251b2d0' class='xr-var-data-in' type='checkbox'><label for='data-7e4dc177-cc13-4644-83bf-34e59251b2d0' title='Show/Hide data repr'><svg class='icon xr-icon-database'><use xlink:href='#icon-database'></use></svg></label><div class='xr-var-attrs'><dl class='xr-attrs'></dl></div><div class='xr-var-data'><pre>[528 values with dtype=&lt;U4]</pre></div></li><li class='xr-var-item'><div class='xr-var-name'><span>latitude</span></div><div class='xr-var-dims'>(points)</div><div class='xr-var-dtype'>float64</div><div class='xr-var-preview xr-preview'>...</div><input id='attrs-cb1e732b-c9b5-4389-9a6f-3579155f0b9f' class='xr-var-attrs-in' type='checkbox' ><label for='attrs-cb1e732b-c9b5-4389-9a6f-3579155f0b9f' title='Show/Hide attributes'><svg class='icon xr-icon-file-text2'><use xlink:href='#icon-file-text2'></use></svg></label><input id='data-5dd8d551-7c43-4f5d-85a6-898dc7e33f22' class='xr-var-data-in' type='checkbox'><label for='data-5dd8d551-7c43-4f5d-85a6-898dc7e33f22' title='Show/Hide data repr'><svg class='icon xr-icon-database'><use xlink:href='#icon-database'></use></svg></label><div class='xr-var-attrs'><dl class='xr-attrs'><dt><span>units :</span></dt><dd>degrees_north</dd><dt><span>standard_name :</span></dt><dd>latitude</dd><dt><span>long_name :</span></dt><dd>latitude</dd><dt><span>stored_direction :</span></dt><dd>decreasing</dd></dl></div><div class='xr-var-data'><pre>[4320 values with dtype=float64]</pre></div></li><li class='xr-var-item'><div class='xr-var-name'><span>longitude</span></div><div class='xr-var-dims'>(points)</div><div class='xr-var-dtype'>float64</div><div class='xr-var-preview xr-preview'>...</div><input id='attrs-1bd4402e-b0a8-4067-ac0e-c6fc93f11430' class='xr-var-attrs-in' type='checkbox' ><label for='attrs-1bd4402e-b0a8-4067-ac0e-c6fc93f11430' title='Show/Hide attributes'><svg class='icon xr-icon-file-text2'><use xlink:href='#icon-file-text2'></use></svg></label><input id='data-bf609c5d-c5d2-42c8-a5bd-d0e07240244b' class='xr-var-data-in' type='checkbox'><label for='data-bf609c5d-c5d2-42c8-a5bd-d0e07240244b' title='Show/Hide data repr'><svg class='icon xr-icon-database'><use xlink:href='#icon-database'></use></svg></label><div class='xr-var-attrs'><dl class='xr-attrs'><dt><span>units :</span></dt><dd>degrees_east</dd><dt><span>standard_name :</span></dt><dd>longitude</dd><dt><span>long_name :</span></dt><dd>longitude</dd></dl></div><div class='xr-var-data'><pre>[4320 values with dtype=float64]</pre></div></li></ul></div></li><li class='xr-section-item'><input id='section-70871a19-ce31-4e9f-b436-ceb40e3cb25a' class='xr-section-summary-in' type='checkbox'  ><label for='section-70871a19-ce31-4e9f-b436-ceb40e3cb25a' class='xr-section-summary' >Indexes: <span>(1)</span></label><div class='xr-section-inline-details'></div><div class='xr-section-details'><ul class='xr-var-list'><li class='xr-var-item'><div class='xr-index-name'><div>valid_time</div></div><div class='xr-index-preview'>PandasIndex</div><input type='checkbox' disabled/><label></label><input id='index-723539ee-203b-492c-a1c7-db319c10884d' class='xr-index-data-in' type='checkbox'/><label for='index-723539ee-203b-492c-a1c7-db319c10884d' title='Show/Hide index repr'><svg class='icon xr-icon-database'><use xlink:href='#icon-database'></use></svg></label><div class='xr-index-data'><pre>PandasIndex(DatetimeIndex([&#x27;1981-01-01&#x27;, &#x27;1981-02-01&#x27;, &#x27;1981-03-01&#x27;, &#x27;1981-04-01&#x27;,\n",
       "               &#x27;1981-05-01&#x27;, &#x27;1981-06-01&#x27;, &#x27;1981-07-01&#x27;, &#x27;1981-08-01&#x27;,\n",
       "               &#x27;1981-09-01&#x27;, &#x27;1981-10-01&#x27;,\n",
       "               ...\n",
       "               &#x27;2024-03-01&#x27;, &#x27;2024-04-01&#x27;, &#x27;2024-05-01&#x27;, &#x27;2024-06-01&#x27;,\n",
       "               &#x27;2024-07-01&#x27;, &#x27;2024-08-01&#x27;, &#x27;2024-09-01&#x27;, &#x27;2024-10-01&#x27;,\n",
       "               &#x27;2024-11-01&#x27;, &#x27;2024-12-01&#x27;],\n",
       "              dtype=&#x27;datetime64[ns]&#x27;, name=&#x27;valid_time&#x27;, length=528, freq=None))</pre></div></li></ul></div></li><li class='xr-section-item'><input id='section-c3dbbb94-6630-4177-8397-f97eeffd6f24' class='xr-section-summary-in' type='checkbox'  checked><label for='section-c3dbbb94-6630-4177-8397-f97eeffd6f24' class='xr-section-summary' >Attributes: <span>(1)</span></label><div class='xr-section-inline-details'></div><div class='xr-section-details'><dl class='xr-attrs'><dt><span>units :</span></dt><dd>°C</dd></dl></div></li></ul></div></div>"
      ]
     },
     "execution_count": 14,
     "metadata": {},
     "output_type": "execute_result"
    }
   ],
   "execution_count": 14
  },
  {
   "metadata": {
    "ExecuteTime": {
     "end_time": "2025-08-24T12:12:46.504112Z",
     "start_time": "2025-08-24T12:12:46.060063Z"
    }
   },
   "cell_type": "code",
   "source": [
    "temp = ds['t2m']\n",
    "df = temp.to_dataframe(name='t2m').reset_index()\n",
    "print(df.head())\n"
   ],
   "id": "490f7b3b14afe89a",
   "outputs": [
    {
     "name": "stdout",
     "output_type": "stream",
     "text": [
      "  valid_time  points  number expver  latitude  longitude       t2m\n",
      "0 1981-01-01       0       0   0001    48.219     20.262 -4.730316\n",
      "1 1981-01-01       1       0   0001    48.219     20.362 -4.832611\n",
      "2 1981-01-01       2       0   0001    48.219     20.462 -4.846771\n",
      "3 1981-01-01       3       0   0001    48.219     20.562 -4.675873\n",
      "4 1981-01-01       4       0   0001    48.219     20.662 -4.392670\n"
     ]
    }
   ],
   "execution_count": 15
  },
  {
   "metadata": {
    "ExecuteTime": {
     "end_time": "2025-08-24T12:12:47.312018Z",
     "start_time": "2025-08-24T12:12:47.301409Z"
    }
   },
   "cell_type": "code",
   "source": [
    "print(\"Min:\", ds['t2m'].min().item())\n",
    "print(\"Max:\", ds['t2m'].max().item())"
   ],
   "id": "30d94d03c68481dd",
   "outputs": [
    {
     "name": "stdout",
     "output_type": "stream",
     "text": [
      "Min: -14.379730224609375\n",
      "Max: 29.339263916015625\n"
     ]
    }
   ],
   "execution_count": 16
  },
  {
   "metadata": {
    "ExecuteTime": {
     "end_time": "2025-08-24T12:12:48.089694Z",
     "start_time": "2025-08-24T12:12:48.050684Z"
    }
   },
   "cell_type": "code",
   "source": [
    "import pandas as pd\n",
    "\n",
    "df['valid_time'] = pd.to_datetime(df['valid_time'])\n"
   ],
   "id": "cf974911b7fbad16",
   "outputs": [],
   "execution_count": 17
  },
  {
   "metadata": {
    "ExecuteTime": {
     "end_time": "2025-08-24T12:12:49.326576Z",
     "start_time": "2025-08-24T12:12:49.031509Z"
    }
   },
   "cell_type": "code",
   "source": [
    "# # Function for assigning climatological season\n",
    "# def get_season(month):\n",
    "#     if month in [12, 1, 2]:\n",
    "#         return 'Winter'      # DJF\n",
    "#     elif month in [3, 4, 5]:\n",
    "#         return 'Spring'      # MAM\n",
    "#     elif month in [6, 7, 8]:\n",
    "#         return 'Summer'      # JJA\n",
    "#     else:\n",
    "#         return 'Autumn'      # SON\n",
    "#\n",
    "# df['season'] = df['valid_time'].dt.month.map(get_season)\n",
    "# df['year'] = df['valid_time'].dt.year"
   ],
   "id": "1ed35184a34b508e",
   "outputs": [],
   "execution_count": 18
  },
  {
   "metadata": {
    "ExecuteTime": {
     "end_time": "2025-08-24T12:13:25.886602Z",
     "start_time": "2025-08-24T12:13:25.055172Z"
    }
   },
   "cell_type": "code",
   "source": [
    "# Useful conversions\n",
    "df['valid_time'] = pd.to_datetime(df['valid_time'])\n",
    "df['year'] = df['valid_time'].dt.year\n",
    "df['month'] = df['valid_time'].dt.month\n",
    "\n",
    "# Season classification\n",
    "def get_season(month):\n",
    "    return {\n",
    "        12: 'Winter', 1: 'Winter', 2: 'Winter',\n",
    "        3: 'Spring', 4: 'Spring', 5: 'Spring',\n",
    "        6: 'Summer', 7: 'Summer', 8: 'Summer',\n",
    "        9: 'Autumn', 10: 'Autumn', 11: 'Autumn'\n",
    "    }[month]\n",
    "\n",
    "df['season'] = df['month'].map(get_season)\n",
    "\n",
    "# Annual mean temperature by season\n",
    "seasonal_means = df.groupby(['year', 'season'])['t2m'].mean().unstack()"
   ],
   "id": "a99bd26238c62664",
   "outputs": [],
   "execution_count": 19
  },
  {
   "metadata": {
    "ExecuteTime": {
     "end_time": "2025-08-24T12:13:29.710540Z",
     "start_time": "2025-08-24T12:13:29.175437Z"
    }
   },
   "cell_type": "code",
   "source": [
    "import plotly.graph_objects as go\n",
    "\n",
    "fig = go.Figure()\n",
    "\n",
    "for season in seasonal_means.columns:\n",
    "    fig.add_trace(go.Scatter(\n",
    "        x=seasonal_means.index,\n",
    "        y=seasonal_means[season],\n",
    "        mode='lines+markers',\n",
    "        name=season\n",
    "    ))\n",
    "\n",
    "fig.update_layout(\n",
    "    title=\"Seasonal Mean Temperature - Interactive\",\n",
    "    xaxis_title=\"Year\",\n",
    "    yaxis_title=\"°C\",\n",
    "    template=\"plotly_white\"\n",
    ")\n",
    "fig.show()"
   ],
   "id": "a46c15f14b0661d4",
   "outputs": [
    {
     "data": {
      "application/vnd.plotly.v1+json": {
       "data": [
        {
         "mode": "lines+markers",
         "name": "Autumn",
         "x": {
          "dtype": "i4",
          "bdata": "vQcAAL4HAAC/BwAAwAcAAMEHAADCBwAAwwcAAMQHAADFBwAAxgcAAMcHAADIBwAAyQcAAMoHAADLBwAAzAcAAM0HAADOBwAAzwcAANAHAADRBwAA0gcAANMHAADUBwAA1QcAANYHAADXBwAA2AcAANkHAADaBwAA2wcAANwHAADdBwAA3gcAAN8HAADgBwAA4QcAAOIHAADjBwAA5AcAAOUHAADmBwAA5wcAAOgHAAA="
         },
         "y": {
          "dtype": "f4",
          "bdata": "5QwiQZoPL0HlFhNBXssvQcZfEkEZaB9BO08uQfGH+0A6dBpBvEMoQaUdJEEXOSRBYyELQTX+MUFxPwlBkWYaQYfGCkFPlhBBZgsjQSt4NUHCECFBwpUoQd2WHUEg5CtBPQsiQcxaNEFeIBVBqf0oQZoPO0H3eSlBqkIhQUm6SkFjDDBBLKItQd9tOUGiUh9Bih0uQfwVNkEMyU1BtFhAQXR9IUH3azVBEkJUQZrBL0E="
         },
         "type": "scatter"
        },
        {
         "mode": "lines+markers",
         "name": "Spring",
         "x": {
          "dtype": "i4",
          "bdata": "vQcAAL4HAAC/BwAAwAcAAMEHAADCBwAAwwcAAMQHAADFBwAAxgcAAMcHAADIBwAAyQcAAMoHAADLBwAAzAcAAM0HAADOBwAAzwcAANAHAADRBwAA0gcAANMHAADUBwAA1QcAANYHAADXBwAA2AcAANkHAADaBwAA2wcAANwHAADdBwAA3gcAAN8HAADgBwAA4QcAAOIHAADjBwAA5AcAAOUHAADmBwAA5wcAAOgHAAA="
         },
         "y": {
          "dtype": "f4",
          "bdata": "KVgQQdUjCEFDFDJB6qsEQfCwFEFetyRBsCLSQInHDEFCWTFBsTQvQTsmB0FnphRB6c0LQURNLEGvuxBB/bUDQdJDAEFAlBJByrgcQS+3LEF78ChBbzouQaGTGEH8axhBGfwPQaUbFEFOWjhBd1QqQWGXKEHgAx1BcXkYQU4vKkGkWypBBooxQSPNIEF2gDBBe2QoQXnZNkFsMSlBnfIjQahpBEHbTxRB+IcbQcoUQEE="
         },
         "type": "scatter"
        },
        {
         "mode": "lines+markers",
         "name": "Summer",
         "x": {
          "dtype": "i4",
          "bdata": "vQcAAL4HAAC/BwAAwAcAAMEHAADCBwAAwwcAAMQHAADFBwAAxgcAAMcHAADIBwAAyQcAAMoHAADLBwAAzAcAAM0HAADOBwAAzwcAANAHAADRBwAA0gcAANMHAADUBwAA1QcAANYHAADXBwAA2AcAANkHAADaBwAA2wcAANwHAADdBwAA3gcAAN8HAADgBwAA4QcAAOIHAADjBwAA5AcAAOUHAADmBwAA5wcAAOgHAAA="
         },
         "y": {
          "dtype": "f4",
          "bdata": "AcCZQUnml0GlIpdB7oSNQfo/lkG8DZxBKOKcQfUloUEM2JdB+JmcQbSjmkEgQaVBd1abQYm+okHPVKBBPv6bQXRylkFQzaFBFrekQbO7pkF5ZqJBo3imQS6cq0EY3ZxBXXKaQWYjoEG5hrJBZk2nQepyp0ELf6hBMbSkQTnetkFo7aZBPQuhQcDVrkGXB6hBXwmsQaYKqUEty61BHNinQTsXq0EcZrFBWq2tQaSyvUE="
         },
         "type": "scatter"
        },
        {
         "mode": "lines+markers",
         "name": "Winter",
         "x": {
          "dtype": "i4",
          "bdata": "vQcAAL4HAAC/BwAAwAcAAMEHAADCBwAAwwcAAMQHAADFBwAAxgcAAMcHAADIBwAAyQcAAMoHAADLBwAAzAcAAM0HAADOBwAAzwcAANAHAADRBwAA0gcAANMHAADUBwAA1QcAANYHAADXBwAA2AcAANkHAADaBwAA2wcAANwHAADdBwAA3gcAAN8HAADgBwAA4QcAAOIHAADjBwAA5AcAAOUHAADmBwAA5wcAAOgHAAA="
         },
         "y": {
          "dtype": "f4",
          "bdata": "yRDjvy31q7/i4ZO+ayeVv+WcmMDXXgrA0h4YwE9OjD5HsU8/0ZorP1cdEMAiNaK/ctdgvxw4Kz/dI+y+1pc+wBbhQb8NT1u/VleUvn19Eb8Ef6e/nYrsvsiAMsBWdnu/W3WWv8lUyb/s48U/aqkzPxJ9Pb6xXNS/T0c0v/BHaMDVM9g9mzWNP1wsej/zy7o+3omNvz5q0r7sCDw/jEf/PycybT9qcLM/A7wRQHYALUA="
         },
         "type": "scatter"
        }
       ],
       "layout": {
        "template": {
         "data": {
          "barpolar": [
           {
            "marker": {
             "line": {
              "color": "white",
              "width": 0.5
             },
             "pattern": {
              "fillmode": "overlay",
              "size": 10,
              "solidity": 0.2
             }
            },
            "type": "barpolar"
           }
          ],
          "bar": [
           {
            "error_x": {
             "color": "#2a3f5f"
            },
            "error_y": {
             "color": "#2a3f5f"
            },
            "marker": {
             "line": {
              "color": "white",
              "width": 0.5
             },
             "pattern": {
              "fillmode": "overlay",
              "size": 10,
              "solidity": 0.2
             }
            },
            "type": "bar"
           }
          ],
          "carpet": [
           {
            "aaxis": {
             "endlinecolor": "#2a3f5f",
             "gridcolor": "#C8D4E3",
             "linecolor": "#C8D4E3",
             "minorgridcolor": "#C8D4E3",
             "startlinecolor": "#2a3f5f"
            },
            "baxis": {
             "endlinecolor": "#2a3f5f",
             "gridcolor": "#C8D4E3",
             "linecolor": "#C8D4E3",
             "minorgridcolor": "#C8D4E3",
             "startlinecolor": "#2a3f5f"
            },
            "type": "carpet"
           }
          ],
          "choropleth": [
           {
            "colorbar": {
             "outlinewidth": 0,
             "ticks": ""
            },
            "type": "choropleth"
           }
          ],
          "contourcarpet": [
           {
            "colorbar": {
             "outlinewidth": 0,
             "ticks": ""
            },
            "type": "contourcarpet"
           }
          ],
          "contour": [
           {
            "colorbar": {
             "outlinewidth": 0,
             "ticks": ""
            },
            "colorscale": [
             [
              0.0,
              "#0d0887"
             ],
             [
              0.1111111111111111,
              "#46039f"
             ],
             [
              0.2222222222222222,
              "#7201a8"
             ],
             [
              0.3333333333333333,
              "#9c179e"
             ],
             [
              0.4444444444444444,
              "#bd3786"
             ],
             [
              0.5555555555555556,
              "#d8576b"
             ],
             [
              0.6666666666666666,
              "#ed7953"
             ],
             [
              0.7777777777777778,
              "#fb9f3a"
             ],
             [
              0.8888888888888888,
              "#fdca26"
             ],
             [
              1.0,
              "#f0f921"
             ]
            ],
            "type": "contour"
           }
          ],
          "heatmap": [
           {
            "colorbar": {
             "outlinewidth": 0,
             "ticks": ""
            },
            "colorscale": [
             [
              0.0,
              "#0d0887"
             ],
             [
              0.1111111111111111,
              "#46039f"
             ],
             [
              0.2222222222222222,
              "#7201a8"
             ],
             [
              0.3333333333333333,
              "#9c179e"
             ],
             [
              0.4444444444444444,
              "#bd3786"
             ],
             [
              0.5555555555555556,
              "#d8576b"
             ],
             [
              0.6666666666666666,
              "#ed7953"
             ],
             [
              0.7777777777777778,
              "#fb9f3a"
             ],
             [
              0.8888888888888888,
              "#fdca26"
             ],
             [
              1.0,
              "#f0f921"
             ]
            ],
            "type": "heatmap"
           }
          ],
          "histogram2dcontour": [
           {
            "colorbar": {
             "outlinewidth": 0,
             "ticks": ""
            },
            "colorscale": [
             [
              0.0,
              "#0d0887"
             ],
             [
              0.1111111111111111,
              "#46039f"
             ],
             [
              0.2222222222222222,
              "#7201a8"
             ],
             [
              0.3333333333333333,
              "#9c179e"
             ],
             [
              0.4444444444444444,
              "#bd3786"
             ],
             [
              0.5555555555555556,
              "#d8576b"
             ],
             [
              0.6666666666666666,
              "#ed7953"
             ],
             [
              0.7777777777777778,
              "#fb9f3a"
             ],
             [
              0.8888888888888888,
              "#fdca26"
             ],
             [
              1.0,
              "#f0f921"
             ]
            ],
            "type": "histogram2dcontour"
           }
          ],
          "histogram2d": [
           {
            "colorbar": {
             "outlinewidth": 0,
             "ticks": ""
            },
            "colorscale": [
             [
              0.0,
              "#0d0887"
             ],
             [
              0.1111111111111111,
              "#46039f"
             ],
             [
              0.2222222222222222,
              "#7201a8"
             ],
             [
              0.3333333333333333,
              "#9c179e"
             ],
             [
              0.4444444444444444,
              "#bd3786"
             ],
             [
              0.5555555555555556,
              "#d8576b"
             ],
             [
              0.6666666666666666,
              "#ed7953"
             ],
             [
              0.7777777777777778,
              "#fb9f3a"
             ],
             [
              0.8888888888888888,
              "#fdca26"
             ],
             [
              1.0,
              "#f0f921"
             ]
            ],
            "type": "histogram2d"
           }
          ],
          "histogram": [
           {
            "marker": {
             "pattern": {
              "fillmode": "overlay",
              "size": 10,
              "solidity": 0.2
             }
            },
            "type": "histogram"
           }
          ],
          "mesh3d": [
           {
            "colorbar": {
             "outlinewidth": 0,
             "ticks": ""
            },
            "type": "mesh3d"
           }
          ],
          "parcoords": [
           {
            "line": {
             "colorbar": {
              "outlinewidth": 0,
              "ticks": ""
             }
            },
            "type": "parcoords"
           }
          ],
          "pie": [
           {
            "automargin": true,
            "type": "pie"
           }
          ],
          "scatter3d": [
           {
            "line": {
             "colorbar": {
              "outlinewidth": 0,
              "ticks": ""
             }
            },
            "marker": {
             "colorbar": {
              "outlinewidth": 0,
              "ticks": ""
             }
            },
            "type": "scatter3d"
           }
          ],
          "scattercarpet": [
           {
            "marker": {
             "colorbar": {
              "outlinewidth": 0,
              "ticks": ""
             }
            },
            "type": "scattercarpet"
           }
          ],
          "scattergeo": [
           {
            "marker": {
             "colorbar": {
              "outlinewidth": 0,
              "ticks": ""
             }
            },
            "type": "scattergeo"
           }
          ],
          "scattergl": [
           {
            "marker": {
             "colorbar": {
              "outlinewidth": 0,
              "ticks": ""
             }
            },
            "type": "scattergl"
           }
          ],
          "scattermapbox": [
           {
            "marker": {
             "colorbar": {
              "outlinewidth": 0,
              "ticks": ""
             }
            },
            "type": "scattermapbox"
           }
          ],
          "scattermap": [
           {
            "marker": {
             "colorbar": {
              "outlinewidth": 0,
              "ticks": ""
             }
            },
            "type": "scattermap"
           }
          ],
          "scatterpolargl": [
           {
            "marker": {
             "colorbar": {
              "outlinewidth": 0,
              "ticks": ""
             }
            },
            "type": "scatterpolargl"
           }
          ],
          "scatterpolar": [
           {
            "marker": {
             "colorbar": {
              "outlinewidth": 0,
              "ticks": ""
             }
            },
            "type": "scatterpolar"
           }
          ],
          "scatter": [
           {
            "fillpattern": {
             "fillmode": "overlay",
             "size": 10,
             "solidity": 0.2
            },
            "type": "scatter"
           }
          ],
          "scatterternary": [
           {
            "marker": {
             "colorbar": {
              "outlinewidth": 0,
              "ticks": ""
             }
            },
            "type": "scatterternary"
           }
          ],
          "surface": [
           {
            "colorbar": {
             "outlinewidth": 0,
             "ticks": ""
            },
            "colorscale": [
             [
              0.0,
              "#0d0887"
             ],
             [
              0.1111111111111111,
              "#46039f"
             ],
             [
              0.2222222222222222,
              "#7201a8"
             ],
             [
              0.3333333333333333,
              "#9c179e"
             ],
             [
              0.4444444444444444,
              "#bd3786"
             ],
             [
              0.5555555555555556,
              "#d8576b"
             ],
             [
              0.6666666666666666,
              "#ed7953"
             ],
             [
              0.7777777777777778,
              "#fb9f3a"
             ],
             [
              0.8888888888888888,
              "#fdca26"
             ],
             [
              1.0,
              "#f0f921"
             ]
            ],
            "type": "surface"
           }
          ],
          "table": [
           {
            "cells": {
             "fill": {
              "color": "#EBF0F8"
             },
             "line": {
              "color": "white"
             }
            },
            "header": {
             "fill": {
              "color": "#C8D4E3"
             },
             "line": {
              "color": "white"
             }
            },
            "type": "table"
           }
          ]
         },
         "layout": {
          "annotationdefaults": {
           "arrowcolor": "#2a3f5f",
           "arrowhead": 0,
           "arrowwidth": 1
          },
          "autotypenumbers": "strict",
          "coloraxis": {
           "colorbar": {
            "outlinewidth": 0,
            "ticks": ""
           }
          },
          "colorscale": {
           "diverging": [
            [
             0,
             "#8e0152"
            ],
            [
             0.1,
             "#c51b7d"
            ],
            [
             0.2,
             "#de77ae"
            ],
            [
             0.3,
             "#f1b6da"
            ],
            [
             0.4,
             "#fde0ef"
            ],
            [
             0.5,
             "#f7f7f7"
            ],
            [
             0.6,
             "#e6f5d0"
            ],
            [
             0.7,
             "#b8e186"
            ],
            [
             0.8,
             "#7fbc41"
            ],
            [
             0.9,
             "#4d9221"
            ],
            [
             1,
             "#276419"
            ]
           ],
           "sequential": [
            [
             0.0,
             "#0d0887"
            ],
            [
             0.1111111111111111,
             "#46039f"
            ],
            [
             0.2222222222222222,
             "#7201a8"
            ],
            [
             0.3333333333333333,
             "#9c179e"
            ],
            [
             0.4444444444444444,
             "#bd3786"
            ],
            [
             0.5555555555555556,
             "#d8576b"
            ],
            [
             0.6666666666666666,
             "#ed7953"
            ],
            [
             0.7777777777777778,
             "#fb9f3a"
            ],
            [
             0.8888888888888888,
             "#fdca26"
            ],
            [
             1.0,
             "#f0f921"
            ]
           ],
           "sequentialminus": [
            [
             0.0,
             "#0d0887"
            ],
            [
             0.1111111111111111,
             "#46039f"
            ],
            [
             0.2222222222222222,
             "#7201a8"
            ],
            [
             0.3333333333333333,
             "#9c179e"
            ],
            [
             0.4444444444444444,
             "#bd3786"
            ],
            [
             0.5555555555555556,
             "#d8576b"
            ],
            [
             0.6666666666666666,
             "#ed7953"
            ],
            [
             0.7777777777777778,
             "#fb9f3a"
            ],
            [
             0.8888888888888888,
             "#fdca26"
            ],
            [
             1.0,
             "#f0f921"
            ]
           ]
          },
          "colorway": [
           "#636efa",
           "#EF553B",
           "#00cc96",
           "#ab63fa",
           "#FFA15A",
           "#19d3f3",
           "#FF6692",
           "#B6E880",
           "#FF97FF",
           "#FECB52"
          ],
          "font": {
           "color": "#2a3f5f"
          },
          "geo": {
           "bgcolor": "white",
           "lakecolor": "white",
           "landcolor": "white",
           "showlakes": true,
           "showland": true,
           "subunitcolor": "#C8D4E3"
          },
          "hoverlabel": {
           "align": "left"
          },
          "hovermode": "closest",
          "mapbox": {
           "style": "light"
          },
          "paper_bgcolor": "white",
          "plot_bgcolor": "white",
          "polar": {
           "angularaxis": {
            "gridcolor": "#EBF0F8",
            "linecolor": "#EBF0F8",
            "ticks": ""
           },
           "bgcolor": "white",
           "radialaxis": {
            "gridcolor": "#EBF0F8",
            "linecolor": "#EBF0F8",
            "ticks": ""
           }
          },
          "scene": {
           "xaxis": {
            "backgroundcolor": "white",
            "gridcolor": "#DFE8F3",
            "gridwidth": 2,
            "linecolor": "#EBF0F8",
            "showbackground": true,
            "ticks": "",
            "zerolinecolor": "#EBF0F8"
           },
           "yaxis": {
            "backgroundcolor": "white",
            "gridcolor": "#DFE8F3",
            "gridwidth": 2,
            "linecolor": "#EBF0F8",
            "showbackground": true,
            "ticks": "",
            "zerolinecolor": "#EBF0F8"
           },
           "zaxis": {
            "backgroundcolor": "white",
            "gridcolor": "#DFE8F3",
            "gridwidth": 2,
            "linecolor": "#EBF0F8",
            "showbackground": true,
            "ticks": "",
            "zerolinecolor": "#EBF0F8"
           }
          },
          "shapedefaults": {
           "line": {
            "color": "#2a3f5f"
           }
          },
          "ternary": {
           "aaxis": {
            "gridcolor": "#DFE8F3",
            "linecolor": "#A2B1C6",
            "ticks": ""
           },
           "baxis": {
            "gridcolor": "#DFE8F3",
            "linecolor": "#A2B1C6",
            "ticks": ""
           },
           "bgcolor": "white",
           "caxis": {
            "gridcolor": "#DFE8F3",
            "linecolor": "#A2B1C6",
            "ticks": ""
           }
          },
          "title": {
           "x": 0.05
          },
          "xaxis": {
           "automargin": true,
           "gridcolor": "#EBF0F8",
           "linecolor": "#EBF0F8",
           "ticks": "",
           "title": {
            "standoff": 15
           },
           "zerolinecolor": "#EBF0F8",
           "zerolinewidth": 2
          },
          "yaxis": {
           "automargin": true,
           "gridcolor": "#EBF0F8",
           "linecolor": "#EBF0F8",
           "ticks": "",
           "title": {
            "standoff": 15
           },
           "zerolinecolor": "#EBF0F8",
           "zerolinewidth": 2
          }
         }
        },
        "title": {
         "text": "Seasonal Mean Temperature - Interactive"
        },
        "xaxis": {
         "title": {
          "text": "Year"
         }
        },
        "yaxis": {
         "title": {
          "text": "°C"
         }
        }
       },
       "config": {
        "plotlyServerURL": "https://plot.ly"
       }
      }
     },
     "metadata": {},
     "output_type": "display_data"
    }
   ],
   "execution_count": 20
  },
  {
   "metadata": {
    "ExecuteTime": {
     "end_time": "2025-08-24T12:13:34.517949Z",
     "start_time": "2025-08-24T12:13:34.514041Z"
    }
   },
   "cell_type": "code",
   "source": "print(ds.data_vars)",
   "id": "fd76bda84052cf18",
   "outputs": [
    {
     "name": "stdout",
     "output_type": "stream",
     "text": [
      "Data variables:\n",
      "    t2m      (valid_time, points) float32 9MB -4.73 -4.833 ... 5.871 6.379\n",
      "    swvl1    (valid_time, points) float32 9MB ...\n",
      "    ssrd     (valid_time, points) float64 18MB ...\n",
      "    pev      (valid_time, points) float32 9MB ...\n",
      "    tp       (valid_time, points) float32 9MB ...\n"
     ]
    }
   ],
   "execution_count": 21
  },
  {
   "metadata": {
    "ExecuteTime": {
     "end_time": "2025-08-24T12:13:35.308985Z",
     "start_time": "2025-08-24T12:13:35.301252Z"
    }
   },
   "cell_type": "code",
   "source": "print(df.head())",
   "id": "9b9db4729aadcb2",
   "outputs": [
    {
     "name": "stdout",
     "output_type": "stream",
     "text": [
      "  valid_time  points  number expver  latitude  longitude       t2m  season  \\\n",
      "0 1981-01-01       0       0   0001    48.219     20.262 -4.730316  Winter   \n",
      "1 1981-01-01       1       0   0001    48.219     20.362 -4.832611  Winter   \n",
      "2 1981-01-01       2       0   0001    48.219     20.462 -4.846771  Winter   \n",
      "3 1981-01-01       3       0   0001    48.219     20.562 -4.675873  Winter   \n",
      "4 1981-01-01       4       0   0001    48.219     20.662 -4.392670  Winter   \n",
      "\n",
      "   year  month  \n",
      "0  1981      1  \n",
      "1  1981      1  \n",
      "2  1981      1  \n",
      "3  1981      1  \n",
      "4  1981      1  \n"
     ]
    }
   ],
   "execution_count": 22
  },
  {
   "metadata": {
    "ExecuteTime": {
     "end_time": "2025-08-24T12:13:36.539449Z",
     "start_time": "2025-08-24T12:13:36.436325Z"
    }
   },
   "cell_type": "code",
   "source": [
    "annual_temp = df.groupby('year')['t2m'].mean().reset_index()\n",
    "\n",
    "import matplotlib.pyplot as plt\n",
    "\n",
    "plt.figure(figsize=(10,5))\n",
    "plt.plot(annual_temp['year'], annual_temp['t2m'], marker='o')\n",
    "plt.title(\"Annual Mean Temperature (°C)\")\n",
    "plt.xlabel(\"Year\")\n",
    "plt.ylabel(\"°C\")\n",
    "plt.grid()\n",
    "plt.show()"
   ],
   "id": "ac4d553695550f8e",
   "outputs": [
    {
     "data": {
      "text/plain": [
       "<Figure size 1000x500 with 1 Axes>"
      ],
      "image/png": "[encoded data removed]"
     },
     "metadata": {},
     "output_type": "display_data"
    }
   ],
   "execution_count": 23
  },
  {
   "metadata": {},
   "cell_type": "markdown",
   "source": [
    "Clear upward trend in average temperature from 1981 to 2024.\n",
    "\n",
    "The region has warmed significantly (~2.5–3°C) over ~40 years."
   ],
   "id": "20b5502f25ab468d"
  },
  {
   "metadata": {
    "ExecuteTime": {
     "end_time": "2025-08-24T12:13:43.860530Z",
     "start_time": "2025-08-24T12:13:41.866926Z"
    }
   },
   "cell_type": "code",
   "source": [
    "import seaborn as sns\n",
    "\n",
    "sns.boxplot(data=df, x='season', y='t2m')\n",
    "plt.title(\"Seasonal Temperature Distribution\")\n",
    "plt.ylabel(\"°C\")\n",
    "plt.grid()\n",
    "plt.show()\n"
   ],
   "id": "4bd275ea0cc4e4b5",
   "outputs": [
    {
     "data": {
      "text/plain": [
       "<Figure size 640x480 with 1 Axes>"
      ],
      "image/png": "[encoded data removed]"
     },
     "metadata": {},
     "output_type": "display_data"
    }
   ],
   "execution_count": 24
  },
  {
   "metadata": {},
   "cell_type": "markdown",
   "source": [
    "Summer shows the highest and most stable temperatures (median ~22°C, max ~29°C).\n",
    "\n",
    "Winter has the widest spread, with extreme lows (outliers below −10°C).\n",
    "\n",
    "Spring and Autumn overlap in ranges but differ slightly in medians and spread.\n",
    "\n",
    "Outliers in all seasons indicate climate extremes (especially winters).\n",
    "\n",
    "Summer warming is consistent and strong. Winter is more variable, indicating increased extreme cold and warm events."
   ],
   "id": "7f4c6d9b5cf101aa"
  },
  {
   "metadata": {
    "ExecuteTime": {
     "end_time": "2025-08-24T12:13:51.559992Z",
     "start_time": "2025-08-24T12:13:51.549656Z"
    }
   },
   "cell_type": "code",
   "source": [
    "import pymannkendall as mk\n",
    "\n",
    "result = mk.original_test(annual_temp['t2m'])\n",
    "print(result)\n"
   ],
   "id": "b3864d382f5b1ae5",
   "outputs": [
    {
     "name": "stdout",
     "output_type": "stream",
     "text": [
      "Mann_Kendall_Test(trend='increasing', h=True, p=2.5044921025951794e-08, z=5.572958526618705, Tau=0.5835095137420718, s=552.0, var_s=9775.333333333334, slope=0.05635746197065702, intercept=8.800032840793715)\n"
     ]
    }
   ],
   "execution_count": 25
  },
  {
   "metadata": {},
   "cell_type": "markdown",
   "source": [
    "Trend:\n",
    "A statistically significant increasing trend in annual mean temperature from 1981–2024.\n",
    "\n",
    "Statistical Significance:\n",
    "\n",
    "p-value = 2.5 × 10⁻⁸ → highly significant, not due to chance.\n",
    "\n",
    "h = True → null hypothesis of no trend is rejected.\n",
    "\n",
    "Trend Strength & Direction:\n",
    "\n",
    "Kendall’s Tau = 0.58 → moderately strong positive correlation over time.\n",
    "\n",
    "z = 5.57 → confirms strong upward trend.\n",
    "\n",
    "Rate of Change:\n",
    "\n",
    "Slope = +0.056 °C/year (~0.56 °C per decade).\n",
    "\n",
    "Intercept = ~8.8 °C baseline (around 1981).\n",
    "\n",
    "Conclusion:\n",
    "Annual mean temperature increased by more than 2.3 °C over 1981–2024, showing a strong, consistent warming trend consistent with global climate change."
   ],
   "id": "e44f99dc300f238a"
  },
  {
   "metadata": {
    "ExecuteTime": {
     "end_time": "2025-08-24T12:13:59.590099Z",
     "start_time": "2025-08-24T12:13:59.351995Z"
    }
   },
   "cell_type": "code",
   "source": [
    "spatial_mean = df.groupby(['latitude', 'longitude'])['t2m'].mean().reset_index()\n",
    "\n",
    "# Pivot for heatmap\n",
    "pivot = spatial_mean.pivot(index='latitude', columns='longitude', values='t2m')\n",
    "\n",
    "plt.figure(figsize=(8,6))\n",
    "ax = sns.heatmap(pivot.sort_index(ascending=False), cmap='coolwarm', cbar_kws={'label': '°C'})\n",
    "\n",
    "ax.set_xticks([])\n",
    "ax.set_yticks([])\n",
    "\n",
    "plt.title(\"Long-Term Mean Temperature (1981–2024)\")\n",
    "plt.xlabel(\"Longitude\")\n",
    "plt.ylabel(\"Latitude\")\n",
    "plt.show()\n"
   ],
   "id": "4e479a0ed474669e",
   "outputs": [
    {
     "data": {
      "text/plain": [
       "<Figure size 800x600 with 2 Axes>"
      ],
      "image/png": "[encoded data removed]"
     },
     "metadata": {},
     "output_type": "display_data"
    }
   ],
   "execution_count": 26
  },
  {
   "metadata": {},
   "cell_type": "markdown",
   "source": [
    "Spatially, the coldest areas (blue) are higher elevations (mountain regions).\n",
    "\n",
    "Warmer zones (pink-red) are located in lowlands.\n",
    "\n",
    "Color scale communicates differences clearly.\n",
    "\n",
    "The region shows typical elevation-dependent climate patterns: cooler in high-altitude areas, warmer in flatlands."
   ],
   "id": "2aba76189292f872"
  },
  {
   "metadata": {
    "ExecuteTime": {
     "end_time": "2025-08-24T12:14:04.219576Z",
     "start_time": "2025-08-24T12:14:04.196728Z"
    }
   },
   "cell_type": "code",
   "source": [
    "lat_min = df['latitude'].min()\n",
    "lat_max = df['latitude'].max()\n",
    "lon_min = df['longitude'].min()\n",
    "lon_max = df['longitude'].max()\n",
    "\n",
    "print(f\"Bounding box: [{lon_min}, {lat_min}, {lon_max}, {lat_max}]\")"
   ],
   "id": "63eb3f246e7b966f",
   "outputs": [
    {
     "name": "stdout",
     "output_type": "stream",
     "text": [
      "Bounding box: [20.262, 43.618, 29.662, 48.219]\n"
     ]
    }
   ],
   "execution_count": 27
  },
  {
   "metadata": {
    "ExecuteTime": {
     "end_time": "2025-08-24T12:14:07.337584Z",
     "start_time": "2025-08-24T12:14:06.271738Z"
    }
   },
   "cell_type": "code",
   "source": [
    "# Extract precipitation\n",
    "df_precip = ds['tp'].to_dataframe().reset_index()\n",
    "\n",
    "# Add year, month, season\n",
    "df_precip['year'] = df_precip['valid_time'].dt.year\n",
    "df_precip['month'] = df_precip['valid_time'].dt.month\n",
    "df_precip['season'] = df_precip['month'].apply(get_season)"
   ],
   "id": "6bdc8c233b5a2402",
   "outputs": [],
   "execution_count": 28
  },
  {
   "metadata": {
    "ExecuteTime": {
     "end_time": "2025-08-24T12:14:09.397820Z",
     "start_time": "2025-08-24T12:14:09.250972Z"
    }
   },
   "cell_type": "code",
   "source": [
    "# Total annual precipitation (averaged over all spatial points)\n",
    "annual_tp = df_precip.groupby('year')['tp'].mean().reset_index()\n",
    "\n",
    "# Total seasonal precipitation\n",
    "seasonal_tp = df_precip.groupby(['year', 'season'])['tp'].mean().reset_index()\n"
   ],
   "id": "c4c6f799b6973088",
   "outputs": [],
   "execution_count": 29
  },
  {
   "metadata": {
    "ExecuteTime": {
     "end_time": "2025-08-24T12:14:10.285125Z",
     "start_time": "2025-08-24T12:14:10.215557Z"
    }
   },
   "cell_type": "code",
   "source": [
    "plt.figure(figsize=(10,5))\n",
    "plt.plot(annual_tp['year'], annual_tp['tp'], marker='o')\n",
    "plt.title(\"Annual Mean Precipitation\")\n",
    "plt.xlabel(\"Year\")\n",
    "plt.ylabel(\"mm\")\n",
    "plt.grid()\n",
    "plt.show()"
   ],
   "id": "ad6aa439d48672bf",
   "outputs": [
    {
     "data": {
      "text/plain": [
       "<Figure size 1000x500 with 1 Axes>"
      ],
      "image/png": "[encoded data removed]"
     },
     "metadata": {},
     "output_type": "display_data"
    }
   ],
   "execution_count": 30
  },
  {
   "metadata": {},
   "cell_type": "markdown",
   "source": [
    "- Annual mean precipitation values fluctuate between **~1.1 and 2.7 mm/day**.\n",
    "- There is no clear long-term increasing or decreasing trend over 1981–2024.\n",
    "- Some notable drops occur in recent years, with **2022 being the driest year** in the record.\n",
    "- Peaks are visible around **2000 and 2010**, highlighting strong year-to-year variability.\n",
    "- Overall, precipitation remains highly variable, without a statistically robust trend.\n",
    "- The recent decline (2021–2023) could reflect natural variability or shifts in seasonality, but evidence is not conclusive.\n"
   ],
   "id": "2a650c6cf812608b"
  },
  {
   "metadata": {
    "ExecuteTime": {
     "end_time": "2025-08-24T12:15:04.598586Z",
     "start_time": "2025-08-24T12:15:02.285179Z"
    }
   },
   "cell_type": "code",
   "source": [
    "sns.boxplot(data=df_precip, x='season', y='tp')\n",
    "plt.title(\"Seasonal Precipitation Distribution\")\n",
    "plt.ylabel(\"mm\")\n",
    "plt.grid()\n",
    "plt.show()\n"
   ],
   "id": "3a9daedfc3640720",
   "outputs": [
    {
     "data": {
      "text/plain": [
       "<Figure size 640x480 with 1 Axes>"
      ],
      "image/png": "[encoded data removed]"
     },
     "metadata": {},
     "output_type": "display_data"
    }
   ],
   "execution_count": 31
  },
  {
   "metadata": {},
   "cell_type": "markdown",
   "source": [
    "Summer has the highest median and spread — confirming it's the wettest season.\n",
    "\n",
    "Winter and Autumn have lower medians and narrower interquartile ranges.\n",
    "\n",
    "All seasons show frequent outliers (especially Summer), indicating extreme rain events.\n",
    "\n",
    "Summer rains dominate the precipitation regime — critical for agriculture.\n",
    "\n",
    "Outliers may reflect storm events or convective rainfall peaks.\n",
    "\n",
    "The seasonality is clear: Spring and Summer are wetter; Autumn and Winter are drier."
   ],
   "id": "47c9d23c5fb2ae2a"
  },
  {
   "metadata": {
    "ExecuteTime": {
     "end_time": "2025-08-24T12:15:18.386292Z",
     "start_time": "2025-08-24T12:15:18.379860Z"
    }
   },
   "cell_type": "code",
   "source": [
    "result_tp = mk.original_test(annual_tp['tp'])\n",
    "print(result_tp)\n"
   ],
   "id": "6a340d63f6bcbdba",
   "outputs": [
    {
     "name": "stdout",
     "output_type": "stream",
     "text": [
      "Mann_Kendall_Test(trend='no trend', h=False, p=0.0951464607057908, z=-1.6688532792959823, Tau=-0.17547568710359407, s=-166.0, var_s=9775.333333333334, slope=-0.00718911195343191, intercept=2.241671061989936)\n"
     ]
    }
   ],
   "execution_count": 32
  },
  {
   "metadata": {},
   "cell_type": "markdown",
   "source": "There's no statistically significant long-term trend in annual precipitation over the period 1981–2024, although there is a weak tendency toward drying. This is in contrast to temperature, which showed a clear and strong increasing trend.",
   "id": "1f7b204bd2c04127"
  },
  {
   "metadata": {
    "ExecuteTime": {
     "end_time": "2025-08-24T12:16:35.057340Z",
     "start_time": "2025-08-24T12:16:33.913432Z"
    }
   },
   "cell_type": "code",
   "source": [
    "# Convert to DataFrame\n",
    "df_swvl = ds['swvl1'].to_dataframe().reset_index()\n",
    "\n",
    "# Add year, month, season\n",
    "df_swvl['year'] = df_swvl['valid_time'].dt.year\n",
    "df_swvl['month'] = df_swvl['valid_time'].dt.month\n",
    "df_swvl['season'] = df_swvl['month'].apply(get_season)"
   ],
   "id": "a0042962b8db3daa",
   "outputs": [],
   "execution_count": 33
  },
  {
   "metadata": {
    "ExecuteTime": {
     "end_time": "2025-08-24T12:16:35.955469Z",
     "start_time": "2025-08-24T12:16:35.782294Z"
    }
   },
   "cell_type": "code",
   "source": [
    "# Annual mean soil moisture\n",
    "annual_swvl = df_swvl.groupby('year')['swvl1'].mean().reset_index()\n",
    "\n",
    "# Seasonal mean\n",
    "seasonal_swvl = df_swvl.groupby(['year', 'season'])['swvl1'].mean().reset_index()"
   ],
   "id": "280ddf8957e08a87",
   "outputs": [],
   "execution_count": 34
  },
  {
   "metadata": {
    "ExecuteTime": {
     "end_time": "2025-08-24T12:16:36.631330Z",
     "start_time": "2025-08-24T12:16:36.555226Z"
    }
   },
   "cell_type": "code",
   "source": [
    "plt.figure(figsize=(10,5))\n",
    "plt.plot(annual_swvl['year'], annual_swvl['swvl1'], marker='o')\n",
    "plt.title(\"Annual Mean Soil Moisture (Layer 1)\")\n",
    "plt.xlabel(\"Year\")\n",
    "plt.ylabel(\"m³/m³\")\n",
    "plt.grid()\n",
    "plt.show()\n"
   ],
   "id": "94c8aaa1e570dc1f",
   "outputs": [
    {
     "data": {
      "text/plain": [
       "<Figure size 1000x500 with 1 Axes>"
      ],
      "image/png": "[encoded data removed]"
     },
     "metadata": {},
     "output_type": "display_data"
    }
   ],
   "execution_count": 35
  },
  {
   "metadata": {},
   "cell_type": "markdown",
   "source": [
    "Values range between ~0.29 and 0.35 m³/m³\n",
    "\n",
    "A general downward trend is visible, especially after the year 2000\n",
    "\n",
    "Some large interannual variations — possibly driven by precipitation changes or seasonal drying patterns\n",
    "\n",
    "Steep drops in 2000, 2012, and post-2015 — possible drought-related events\n",
    "\n",
    "There is a clear tendency toward drier topsoil conditions over time, which is worrying from an agricultural standpoint, especially for crops that rely on surface moisture."
   ],
   "id": "fee416ee0b5377a5"
  },
  {
   "metadata": {
    "ExecuteTime": {
     "end_time": "2025-08-24T12:16:52.298758Z",
     "start_time": "2025-08-24T12:16:50.159334Z"
    }
   },
   "cell_type": "code",
   "source": [
    "sns.boxplot(data=df_swvl, x='season', y='swvl1')\n",
    "plt.title(\"Seasonal Soil Moisture Distribution\")\n",
    "plt.ylabel(\"m³/m³\")\n",
    "plt.grid()\n",
    "plt.show()\n"
   ],
   "id": "7ed133fc7a7e00cb",
   "outputs": [
    {
     "data": {
      "text/plain": [
       "<Figure size 640x480 with 1 Axes>"
      ],
      "image/png": "[encoded data removed]"
     },
     "metadata": {},
     "output_type": "display_data"
    }
   ],
   "execution_count": 36
  },
  {
   "metadata": {},
   "cell_type": "markdown",
   "source": [
    "Winter and Spring show the highest soil moisture levels, with medians around 0.35–0.37 m³/m³\n",
    "\n",
    "Summer is the driest season (as expected), with a median around 0.27–0.30 m³/m³\n",
    "\n",
    "All seasons have outliers — likely due to heavy rain events or dry spells\n",
    "\n",
    "Soil moisture peaks during colder months (less evaporation, higher storage)\n",
    "\n",
    "Summer dryness is consistent and may pose a risk to crops, especially under warming scenarios\n",
    "\n",
    "Agricultural practices (e.g. irrigation or timing of planting) must adapt to this seasonal pattern"
   ],
   "id": "db25f564427014d2"
  },
  {
   "metadata": {
    "ExecuteTime": {
     "end_time": "2025-08-24T12:17:01.700066Z",
     "start_time": "2025-08-24T12:17:01.693961Z"
    }
   },
   "cell_type": "code",
   "source": [
    "result_swvl = mk.original_test(annual_swvl['swvl1'])\n",
    "print(result_swvl)\n"
   ],
   "id": "ef47e9c4ae1d1f5",
   "outputs": [
    {
     "name": "stdout",
     "output_type": "stream",
     "text": [
      "Mann_Kendall_Test(trend='decreasing', h=True, p=0.0057590525153021765, z=-2.7611936075624435, Tau=-0.28964059196617337, s=-274.0, var_s=9775.333333333334, slope=-0.0005789816307560833, intercept=0.3330190060975183)\n"
     ]
    }
   ],
   "execution_count": 37
  },
  {
   "metadata": {},
   "cell_type": "markdown",
   "source": [
    "Trend: Decreasing – there is a consistent downward trend in annual soil moisture over the period.\n",
    "\n",
    "Significance (h=True): The trend is statistically significant at the 1% level (p = 0.00576 < 0.01).\n",
    "\n",
    "Kendall’s Tau: -0.29 – indicates a moderate negative correlation between year and soil moisture values.\n",
    "\n",
    "Z-value: -2.76 – the negative Z-score supports a significant downward trend.\n",
    "\n",
    "Slope: -0.00058 m³/m³ per year – this is the estimated rate of decrease annually.\n",
    "\n",
    "Intercept: 0.333 m³/m³ – represents the starting soil moisture level (around the early 1980s).\n",
    "\n",
    "There is statistical evidence that top-layer soil moisture has declined significantly from 1981 to 2024, supporting the idea of intensifying drought risk."
   ],
   "id": "d54e9788c8546eda"
  },
  {
   "metadata": {
    "ExecuteTime": {
     "end_time": "2025-08-24T12:17:16.867225Z",
     "start_time": "2025-08-24T12:17:15.620605Z"
    }
   },
   "cell_type": "code",
   "source": [
    "# Extract surface solar radiation\n",
    "df_ssrd = ds['ssrd'].to_dataframe().reset_index()\n",
    "\n",
    "# Add year, month, season\n",
    "df_ssrd['year'] = df_ssrd['valid_time'].dt.year\n",
    "df_ssrd['month'] = df_ssrd['valid_time'].dt.month\n",
    "df_ssrd['season'] = df_ssrd['month'].apply(get_season)\n"
   ],
   "id": "d0db0a0d69de48fd",
   "outputs": [],
   "execution_count": 38
  },
  {
   "metadata": {
    "ExecuteTime": {
     "end_time": "2025-08-24T12:17:18.291440Z",
     "start_time": "2025-08-24T12:17:18.122455Z"
    }
   },
   "cell_type": "code",
   "source": [
    "# Annual mean of SSRD\n",
    "annual_ssrd = df_ssrd.groupby('year')['ssrd'].mean().reset_index()\n",
    "\n",
    "# Seasonal mean of SSRD\n",
    "seasonal_ssrd = df_ssrd.groupby(['year', 'season'])['ssrd'].mean().reset_index()"
   ],
   "id": "91d65ed7c907215b",
   "outputs": [],
   "execution_count": 39
  },
  {
   "metadata": {
    "ExecuteTime": {
     "end_time": "2025-08-24T12:17:19.812770Z",
     "start_time": "2025-08-24T12:17:19.738578Z"
    }
   },
   "cell_type": "code",
   "source": [
    "plt.figure(figsize=(10,5))\n",
    "sns.lineplot(data=annual_ssrd, x='year', y='ssrd', marker='o')\n",
    "plt.title(\"Annual Mean Surface Solar Radiation (SSRD)\")\n",
    "plt.xlabel(\"Year\")\n",
    "plt.ylabel(\"W/m²\")\n",
    "plt.grid()\n",
    "plt.show()\n"
   ],
   "id": "d901a587e91554a",
   "outputs": [
    {
     "data": {
      "text/plain": [
       "<Figure size 1000x500 with 1 Axes>"
      ],
      "image/png": "[encoded data removed]"
     },
     "metadata": {},
     "output_type": "display_data"
    }
   ],
   "execution_count": 40
  },
  {
   "metadata": {},
   "cell_type": "markdown",
   "source": [
    "The line plot shows the yearly mean surface solar radiation from 1981 to 2024.\n",
    "\n",
    "Overall, there's a slight upward trend, though with fluctuations—especially a notable sharp drop around 2022–2023 (which may be due to data issues or exceptional conditions).\n",
    "\n",
    "The values remain relatively stable in the 1990s–2010s, followed by some variability."
   ],
   "id": "12fcf7ad5fb2e0a8"
  },
  {
   "metadata": {
    "ExecuteTime": {
     "end_time": "2025-08-24T12:20:29.655436Z",
     "start_time": "2025-08-24T12:20:27.594702Z"
    }
   },
   "cell_type": "code",
   "source": [
    "sns.boxplot(data=df_ssrd, x='season', y='ssrd')\n",
    "plt.title(\"Seasonal Surface Solar Radiation Distribution\")\n",
    "plt.xlabel(\"Season\")\n",
    "plt.ylabel(\"W/m²\")\n",
    "plt.grid()\n",
    "plt.show()"
   ],
   "id": "a1f9be3193a77390",
   "outputs": [
    {
     "data": {
      "text/plain": [
       "<Figure size 640x480 with 1 Axes>"
      ],
      "image/png": "[encoded data removed]"
     },
     "metadata": {},
     "output_type": "display_data"
    }
   ],
   "execution_count": 41
  },
  {
   "metadata": {},
   "cell_type": "markdown",
   "source": [
    "Summer clearly shows the highest radiation values, followed by spring, autumn, and winter.\n",
    "\n",
    "There's a wide range and spread of radiation in spring and summer, indicating strong seasonal variation.\n",
    "\n",
    "Winter has the lowest and most compact values, consistent with less solar input."
   ],
   "id": "9dcd9b459b076604"
  },
  {
   "metadata": {
    "ExecuteTime": {
     "end_time": "2025-08-24T12:20:37.718802Z",
     "start_time": "2025-08-24T12:20:37.713619Z"
    }
   },
   "cell_type": "code",
   "source": [
    "result_ssrd = mk.original_test(annual_ssrd['ssrd'])\n",
    "print(result_ssrd)"
   ],
   "id": "266d9420828094ba",
   "outputs": [
    {
     "name": "stdout",
     "output_type": "stream",
     "text": [
      "Mann_Kendall_Test(trend='increasing', h=True, p=0.001546761781051842, z=3.1657640995129848, Tau=0.33192389006342493, s=314.0, var_s=9775.333333333334, slope=0.2093562378657437, intercept=146.22681485158762)\n"
     ]
    }
   ],
   "execution_count": 42
  },
  {
   "metadata": {},
   "cell_type": "markdown",
   "source": [
    "Trend: Increasing\n",
    "\n",
    "Significance (h): True (trend is statistically significant)\n",
    "\n",
    "p-value: 0.0015 → The trend is significant at the 0.05 level.\n",
    "\n",
    "Tau (Kendall's Tau): 0.332 → Moderate positive correlation\n",
    "\n",
    "Slope: 18,088.62 W/m² per year (Sen’s Slope estimate)\n",
    "\n",
    "Intercept: 12,634,991.77 W/m²\n",
    "\n",
    "z-score: 3.17 → Trend is positively significant\n",
    "\n",
    "\n",
    "The Mann-Kendall test confirms a statistically significant increasing trend in solar radiation over the observed period.\n",
    "\n",
    "This suggests that the region has been receiving more solar radiation on average annually—potentially relevant for evapotranspiration, agriculture, and energy balance assessments."
   ],
   "id": "44d319fbd2177ba5"
  },
  {
   "metadata": {
    "ExecuteTime": {
     "end_time": "2025-08-24T12:20:49.135512Z",
     "start_time": "2025-08-24T12:20:48.007480Z"
    }
   },
   "cell_type": "code",
   "source": [
    "# Extract potential evaporation\n",
    "df_pev = ds['pev'].to_dataframe().reset_index()\n",
    "\n",
    "# Add year, month, season\n",
    "df_pev['year'] = df_pev['valid_time'].dt.year\n",
    "df_pev['month'] = df_pev['valid_time'].dt.month\n",
    "df_pev['season'] = df_pev['month'].apply(get_season)\n"
   ],
   "id": "2d4ff092b500c68f",
   "outputs": [],
   "execution_count": 43
  },
  {
   "metadata": {
    "ExecuteTime": {
     "end_time": "2025-08-24T12:20:49.330455Z",
     "start_time": "2025-08-24T12:20:49.176143Z"
    }
   },
   "cell_type": "code",
   "source": [
    "# Annual mean of PEV\n",
    "annual_pev = df_pev.groupby('year')['pev'].mean().reset_index()\n",
    "\n",
    "# Seasonal mean of PEV\n",
    "seasonal_pev = df_pev.groupby(['year', 'season'])['pev'].mean().reset_index()"
   ],
   "id": "d75436f1d6acbbd0",
   "outputs": [],
   "execution_count": 44
  },
  {
   "metadata": {
    "ExecuteTime": {
     "end_time": "2025-08-24T12:20:50.383941Z",
     "start_time": "2025-08-24T12:20:50.308873Z"
    }
   },
   "cell_type": "code",
   "source": [
    "# Plot annual mean\n",
    "plt.figure(figsize=(10,5))\n",
    "sns.lineplot(data=annual_pev, x='year', y='pev', marker='o')\n",
    "plt.title(\"Annual Mean Potential Evaporation (PEV)\")\n",
    "plt.xlabel(\"Year\")\n",
    "plt.ylabel(\"mm/day\")\n",
    "plt.grid()\n",
    "plt.show()"
   ],
   "id": "854aca3b5dec75cf",
   "outputs": [
    {
     "data": {
      "text/plain": [
       "<Figure size 1000x500 with 1 Axes>"
      ],
      "image/png": "[encoded data removed]"
     },
     "metadata": {},
     "output_type": "display_data"
    }
   ],
   "execution_count": 45
  },
  {
   "metadata": {},
   "cell_type": "markdown",
   "source": [
    "- The annual mean PEV fluctuates between ~3.8 and 5.3 mm/day across 1981–2024.\n",
    "- A long-term increasing trend is observed over the period.\n",
    "- Peaks occur in the early 2000s and around 2010, followed by relatively stable values after 2015.\n",
    "- A sharp drop in 2022 stands out as an anomaly, but values recover immediately in 2023–2024.\n"
   ],
   "id": "3952a517340ab84d"
  },
  {
   "metadata": {
    "ExecuteTime": {
     "end_time": "2025-08-24T12:22:50.559256Z",
     "start_time": "2025-08-24T12:22:48.409947Z"
    }
   },
   "cell_type": "code",
   "source": [
    "sns.boxplot(data=df_pev, x='season', y='pev')\n",
    "plt.title(\"Seasonal Potential Evaporation Distribution\")\n",
    "plt.xlabel(\"Season\")\n",
    "plt.ylabel(\"mm/day\")\n",
    "plt.grid()\n",
    "plt.show()"
   ],
   "id": "fa184c60ab17fdae",
   "outputs": [
    {
     "data": {
      "text/plain": [
       "<Figure size 640x480 with 1 Axes>"
      ],
      "image/png": "[encoded data removed]"
     },
     "metadata": {},
     "output_type": "display_data"
    }
   ],
   "execution_count": 47
  },
  {
   "metadata": {},
   "cell_type": "markdown",
   "source": [
    "- **Summer** shows the highest median and spread of potential evaporation, reflecting intense solar radiation and high temperatures.\n",
    "- **Spring** also exhibits elevated values, although slightly lower than in summer.\n",
    "- **Autumn** and especially **Winter** have much lower medians, consistent with cooler conditions and reduced solar input.\n",
    "- Numerous outliers, particularly in summer, highlight episodes of extreme evaporation linked to heatwaves and clear-sky conditions.\n",
    "- Overall, the seasonal pattern is clear: **potential evaporation peaks in summer, is high in spring, and remains low in autumn and winter**.\n"
   ],
   "id": "5d961a850248c3ea"
  },
  {
   "metadata": {
    "ExecuteTime": {
     "end_time": "2025-08-24T12:23:44.260497Z",
     "start_time": "2025-08-24T12:23:44.256090Z"
    }
   },
   "cell_type": "code",
   "source": [
    "result_pev = mk.original_test(annual_pev['pev'])\n",
    "print(result_pev)"
   ],
   "id": "85c7c1e81a672f57",
   "outputs": [
    {
     "name": "stdout",
     "output_type": "stream",
     "text": [
      "Mann_Kendall_Test(trend='increasing', h=True, p=4.5807624833749117e-05, z=4.076047706401702, Tau=0.427061310782241, s=404.0, var_s=9775.333333333334, slope=0.019609797108280765, intercept=4.109108165577725)\n"
     ]
    }
   ],
   "execution_count": 49
  },
  {
   "metadata": {},
   "cell_type": "markdown",
   "source": [
    "Trend: Decreasing\n",
    "\n",
    "Statistical Significance (p-value): 4.58e-05 (highly significant, p < 0.001)\n",
    "\n",
    "Z-score: -4.08\n",
    "\n",
    "Tau (Kendall's Tau): -0.43 (moderately strong negative association)\n",
    "\n",
    "Slope (Sen's slope): -1.96e-05 mm/day/year\n",
    "\n",
    "Intercept: -0.0041 mm/day\n",
    "\n",
    "There is a statistically significant decreasing trend in potential evaporation from 1981 to 2024.\n",
    "\n",
    "This may indicate a regional shift in surface energy balance or changes in temperature, humidity, or solar radiation affecting evaporation dynamics.\n",
    "\n",
    "---\n",
    "\n",
    "The sharp drop in 2022 for SSRD and PEV is likely a data artefact, as it is inconsistent with surrounding years and climatological expectations.\n"
   ],
   "id": "81a8653f2fb5a72f"
  },
  {
   "metadata": {},
   "cell_type": "code",
   "outputs": [],
   "execution_count": null,
   "source": "",
   "id": "1f946a62e54d8015"
  }
 ],
 "metadata": {
  "kernelspec": {
   "display_name": "Python 3",
   "language": "python",
   "name": "python3"
  },
  "language_info": {
   "codemirror_mode": {
    "name": "ipython",
    "version": 2
   },
   "file_extension": ".py",
   "mimetype": "text/x-python",
   "name": "python",
   "nbconvert_exporter": "python",
   "pygments_lexer": "ipython2",
   "version": "2.7.6"
  }
 },
 "nbformat": 4,
 "nbformat_minor": 5
}
